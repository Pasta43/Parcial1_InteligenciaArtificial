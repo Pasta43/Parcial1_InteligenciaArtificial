{
 "cells": [
  {
   "cell_type": "code",
   "execution_count": null,
   "source": [
    "a = 2\r\n",
    "a"
   ],
   "outputs": [],
   "metadata": {}
  }
 ],
 "metadata": {
  "orig_nbformat": 4,
  "language_info": {
   "name": "python",
   "version": "3.6.0"
  },
  "kernelspec": {
   "name": "python3",
   "display_name": "Python 3.6.0 64-bit"
  },
  "interpreter": {
   "hash": "c81fc24a71b693874d1f903a05c7868428cfbd93b6a22d5361d509ab21452cb4"
  }
 },
 "nbformat": 4,
 "nbformat_minor": 2
}